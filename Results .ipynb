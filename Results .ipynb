{
 "cells": [
  {
   "cell_type": "code",
   "execution_count": 2,
   "id": "73f7b968",
   "metadata": {},
   "outputs": [
    {
     "name": "stdout",
     "output_type": "stream",
     "text": [
      "Requirement already satisfied: scikit-learn in c:\\users\\91984\\anaconda3\\envs\\pythonclasses\\lib\\site-packages (1.0.2)\n",
      "Requirement already satisfied: scipy>=1.1.0 in c:\\users\\91984\\anaconda3\\envs\\pythonclasses\\lib\\site-packages (from scikit-learn) (1.7.3)\n",
      "Requirement already satisfied: threadpoolctl>=2.0.0 in c:\\users\\91984\\anaconda3\\envs\\pythonclasses\\lib\\site-packages (from scikit-learn) (3.1.0)\n",
      "Requirement already satisfied: numpy>=1.14.6 in c:\\users\\91984\\anaconda3\\envs\\pythonclasses\\lib\\site-packages (from scikit-learn) (1.21.6)\n",
      "Requirement already satisfied: joblib>=0.11 in c:\\users\\91984\\anaconda3\\envs\\pythonclasses\\lib\\site-packages (from scikit-learn) (1.3.2)\n",
      "Note: you may need to restart the kernel to use updated packages.\n"
     ]
    }
   ],
   "source": [
    "pip install scikit-learn\n"
   ]
  },
  {
   "cell_type": "code",
   "execution_count": 3,
   "id": "1730eaa7",
   "metadata": {},
   "outputs": [
    {
     "name": "stdout",
     "output_type": "stream",
     "text": [
      "Requirement already satisfied: xgboost in c:\\users\\91984\\anaconda3\\envs\\pythonclasses\\lib\\site-packages (1.6.2)Note: you may need to restart the kernel to use updated packages.\n",
      "\n",
      "Requirement already satisfied: numpy in c:\\users\\91984\\anaconda3\\envs\\pythonclasses\\lib\\site-packages (from xgboost) (1.21.6)\n",
      "Requirement already satisfied: scipy in c:\\users\\91984\\anaconda3\\envs\\pythonclasses\\lib\\site-packages (from xgboost) (1.7.3)\n"
     ]
    }
   ],
   "source": [
    "pip install xgboost"
   ]
  },
  {
   "cell_type": "markdown",
   "id": "b554f9e7",
   "metadata": {},
   "source": [
    "### 1.Heart Health is Good"
   ]
  },
  {
   "cell_type": "code",
   "execution_count": 9,
   "id": "6f8b4622",
   "metadata": {},
   "outputs": [
    {
     "name": "stdout",
     "output_type": "stream",
     "text": [
      "Enter the patients data: 122,85,80,1,149,80,50,50,180,1,1,32,1,1\n",
      "Heart Health is good\n",
      "Accuracy level of this model: 1.0\n"
     ]
    }
   ],
   "source": [
    "import pandas as pd\n",
    "from sklearn.model_selection import train_test_split\n",
    "\n",
    "df = pd.read_csv(\"data.csv\")\n",
    "X = df.drop('Result', axis='columns')\n",
    "y = df['Result']\n",
    "ycpy = df['Result']\n",
    "X_train, X_test, y_train, y_test = train_test_split(X.values, y.values, test_size=0.1)\n",
    "#-----------------------------Accuracy Calculation--------------------------------\n",
    "from xgboost import XGBClassifier\n",
    "model = XGBClassifier()\n",
    "model.fit(X_train, y_train)\n",
    "accuracy= model.score(X_test, y_test)\n",
    "#-----------------------------Predict value---------------------------------------\n",
    "patient_data = input(\"Enter the patients data: \")\n",
    "arr = patient_data.split(\",\")\n",
    "arr = [int(x) for x in arr]  \n",
    "predicted_output=model.predict([arr])\n",
    "\n",
    "array_value = predicted_output[0]\n",
    "\n",
    "if array_value == 0:\n",
    "    print('Heart problem is in High risk')\n",
    "elif array_value == 1:\n",
    "    print('Heart problem is Vulnerable')\n",
    "elif array_value == 2:\n",
    "    print('Heart problemis Partially prone')\n",
    "elif array_value == 3:\n",
    "    print('Heart problem is in low risk')    \n",
    "elif array_value == 4:\n",
    "    print('Heart Health is good')    \n",
    "else:\n",
    "    print('Invalid data')\n",
    "\n",
    "print('Accuracy level of this model:', accuracy)\n"
   ]
  },
  {
   "cell_type": "markdown",
   "id": "e324dd61",
   "metadata": {},
   "source": [
    "### 2.Heart problem is in low risk "
   ]
  },
  {
   "cell_type": "code",
   "execution_count": 10,
   "id": "f4e656dd",
   "metadata": {},
   "outputs": [
    {
     "name": "stdout",
     "output_type": "stream",
     "text": [
      "Enter the patients data: 108,78,55,0,145,65,25,25,90,0,1,20,0,1\n",
      "Heart problem is in low risk\n",
      "Accuracy level of this model: 1.0\n"
     ]
    }
   ],
   "source": [
    "import pandas as pd\n",
    "from sklearn.model_selection import train_test_split\n",
    "\n",
    "df = pd.read_csv(\"data.csv\")\n",
    "X = df.drop('Result', axis='columns')\n",
    "y = df['Result']\n",
    "ycpy = df['Result']\n",
    "X_train, X_test, y_train, y_test = train_test_split(X.values, y.values, test_size=0.1)\n",
    "#-----------------------------Accuracy Calculation--------------------------------\n",
    "from xgboost import XGBClassifier\n",
    "model = XGBClassifier()\n",
    "model.fit(X_train, y_train)\n",
    "accuracy= model.score(X_test, y_test)\n",
    "#-----------------------------Predict value---------------------------------------\n",
    "patient_data = input(\"Enter the patients data: \")\n",
    "arr = patient_data.split(\",\")\n",
    "arr = [int(x) for x in arr]  \n",
    "predicted_output=model.predict([arr])\n",
    "\n",
    "array_value = predicted_output[0]\n",
    "\n",
    "if array_value == 0:\n",
    "    print('Heart problem is in High risk')\n",
    "elif array_value == 1:\n",
    "    print('Heart problem is Vulnerable')\n",
    "elif array_value == 2:\n",
    "    print('Heart problemis Partially prone')\n",
    "elif array_value == 3:\n",
    "    print('Heart problem is in low risk')    \n",
    "elif array_value == 4:\n",
    "    print('Heart problem is good')    \n",
    "else:\n",
    "    print('Invalid data')\n",
    "\n",
    "print('Accuracy level of this model:', accuracy)"
   ]
  },
  {
   "cell_type": "markdown",
   "id": "334ba672",
   "metadata": {},
   "source": [
    "### 3.Heart problem is in High Risk "
   ]
  },
  {
   "cell_type": "code",
   "execution_count": 11,
   "id": "e0d07cf8",
   "metadata": {},
   "outputs": [
    {
     "name": "stdout",
     "output_type": "stream",
     "text": [
      "Enter the patients data: 109,79,60,1,155,70,30,30,110,1,1,21,1,1\n",
      "Heart problem is in High risk\n",
      "Accuracy level of this model: 1.0\n"
     ]
    }
   ],
   "source": [
    "import pandas as pd\n",
    "from sklearn.model_selection import train_test_split\n",
    "\n",
    "df = pd.read_csv(\"data.csv\")\n",
    "X = df.drop('Result', axis='columns')\n",
    "y = df['Result']\n",
    "ycpy = df['Result']\n",
    "X_train, X_test, y_train, y_test = train_test_split(X.values, y.values, test_size=0.1)\n",
    "#-----------------------------Accuracy Calculation--------------------------------\n",
    "from xgboost import XGBClassifier\n",
    "model = XGBClassifier()\n",
    "model.fit(X_train, y_train)\n",
    "accuracy= model.score(X_test, y_test)\n",
    "#-----------------------------Predict value---------------------------------------\n",
    "patient_data = input(\"Enter the patients data: \")\n",
    "arr = patient_data.split(\",\")\n",
    "arr = [int(x) for x in arr]  \n",
    "predicted_output=model.predict([arr])\n",
    "\n",
    "array_value = predicted_output[0]\n",
    "\n",
    "if array_value == 0:\n",
    "    print('Heart problem is in High risk')\n",
    "elif array_value == 1:\n",
    "    print('Heart problem is Vulnerable')\n",
    "elif array_value == 2:\n",
    "    print('Heart problemis Partially prone')\n",
    "elif array_value == 3:\n",
    "    print('Heart problem is in low risk')    \n",
    "elif array_value == 4:\n",
    "    print('Heart problem is good')    \n",
    "else:\n",
    "    print('Invalid data')\n",
    "\n",
    "print('Accuracy level of this model:', accuracy)"
   ]
  },
  {
   "cell_type": "markdown",
   "id": "703bc5e3",
   "metadata": {},
   "source": [
    "### 4.Heart health is vulnerable "
   ]
  },
  {
   "cell_type": "code",
   "execution_count": 13,
   "id": "e8ffc055",
   "metadata": {},
   "outputs": [
    {
     "name": "stdout",
     "output_type": "stream",
     "text": [
      "Enter the patients data: 90,50,65,0,165,75,35,35,120,0,0,22,0,0\n",
      "Heart problem is Vulnerable\n",
      "Accuracy level of this model: 1.0\n"
     ]
    }
   ],
   "source": [
    "import pandas as pd\n",
    "from sklearn.model_selection import train_test_split\n",
    "\n",
    "df = pd.read_csv(\"data.csv\")\n",
    "X = df.drop('Result', axis='columns')\n",
    "y = df['Result']\n",
    "ycpy = df['Result']\n",
    "X_train, X_test, y_train, y_test = train_test_split(X.values, y.values, test_size=0.1)\n",
    "#-----------------------------Accuracy Calculation--------------------------------\n",
    "from xgboost import XGBClassifier\n",
    "model = XGBClassifier()\n",
    "model.fit(X_train, y_train)\n",
    "accuracy= model.score(X_test, y_test)\n",
    "#-----------------------------Predict value---------------------------------------\n",
    "patient_data = input(\"Enter the patients data: \")\n",
    "arr = patient_data.split(\",\")\n",
    "arr = [int(x) for x in arr]  \n",
    "predicted_output=model.predict([arr])\n",
    "\n",
    "array_value = predicted_output[0]\n",
    "\n",
    "if array_value == 0:\n",
    "    print('Heart problem is in High risk')\n",
    "elif array_value == 1:\n",
    "    print('Heart problem is Vulnerable')\n",
    "elif array_value == 2:\n",
    "    print('Heart problemis Partially prone')\n",
    "elif array_value == 3:\n",
    "    print('Heart problem is in low risk')    \n",
    "elif array_value == 4:\n",
    "    print('Heart problem is good')    \n",
    "else:\n",
    "    print('Invalid data')\n",
    "\n",
    "print('Accuracy level of this model:', accuracy)"
   ]
  },
  {
   "cell_type": "markdown",
   "id": "1be257cc",
   "metadata": {},
   "source": [
    "### Heart problem is partially prone "
   ]
  },
  {
   "cell_type": "code",
   "execution_count": null,
   "id": "214553f7",
   "metadata": {},
   "outputs": [],
   "source": [
    "import pandas as pd\n",
    "from sklearn.model_selection import train_test_split\n",
    "\n",
    "df = pd.read_csv(\"data.csv\")\n",
    "X = df.drop('Result', axis='columns')\n",
    "y = df['Result']\n",
    "ycpy = df['Result']\n",
    "X_train, X_test, y_train, y_test = train_test_split(X.values, y.values, test_size=0.1)\n",
    "#-----------------------------Accuracy Calculation--------------------------------\n",
    "from xgboost import XGBClassifier\n",
    "model = XGBClassifier()\n",
    "model.fit(X_train, y_train)\n",
    "accuracy= model.score(X_test, y_test)\n",
    "#-----------------------------Predict value---------------------------------------\n",
    "patient_data = input(\"Enter the patients data: \")\n",
    "arr = patient_data.split(\",\")\n",
    "arr = [int(x) for x in arr]  \n",
    "predicted_output=model.predict([arr])\n",
    "\n",
    "array_value = predicted_output[0]\n",
    "\n",
    "if array_value == 0:\n",
    "    print('Heart problem is in High risk')\n",
    "elif array_value == 1:\n",
    "    print('Heart problem is Vulnerable')\n",
    "elif array_value == 2:\n",
    "    print('Heart problemis Partially prone')\n",
    "elif array_value == 3:\n",
    "    print('Heart problem is in low risk')    \n",
    "elif array_value == 4:\n",
    "    print('Heart problem is good')    \n",
    "else:\n",
    "    print('Invalid data')\n",
    "\n",
    "print('Accuracy level of this model:', accuracy)"
   ]
  },
  {
   "cell_type": "code",
   "execution_count": null,
   "id": "f1cc4492",
   "metadata": {},
   "outputs": [],
   "source": []
  },
  {
   "cell_type": "markdown",
   "id": "02d1a60c",
   "metadata": {},
   "source": [
    "### when the data is changed "
   ]
  },
  {
   "cell_type": "code",
   "execution_count": null,
   "id": "78cb4298",
   "metadata": {},
   "outputs": [],
   "source": [
    "import pandas as pd\n",
    "from sklearn.model_selection import train_test_split\n",
    "\n",
    "df = pd.read_csv(\"data.csv\")\n",
    "X = df.drop('Result', axis='columns')\n",
    "y = df['Result']\n",
    "ycpy = df['Result']\n",
    "X_train, X_test, y_train, y_test = train_test_split(X.values, y.values, test_size=0.1)\n",
    "#-----------------------------Accuracy Calculation--------------------------------\n",
    "from xgboost import XGBClassifier\n",
    "model = XGBClassifier()\n",
    "model.fit(X_train, y_train)\n",
    "accuracy= model.score(X_test, y_test)\n",
    "#-----------------------------Predict value---------------------------------------\n",
    "patient_data = input(\"Enter the patients data: \")\n",
    "arr = patient_data.split(\",\")\n",
    "arr = [int(x) for x in arr]  \n",
    "predicted_output=model.predict([arr])\n",
    "\n",
    "array_value = predicted_output[0]\n",
    "\n",
    "if array_value == 0:\n",
    "    print('Heart problem is in High risk')\n",
    "elif array_value == 1:\n",
    "    print('Heart problem is Vulnerable')\n",
    "elif array_value == 2:\n",
    "    print('Heart problemis Partially prone')\n",
    "elif array_value == 3:\n",
    "    print('Heart problem is in low risk')    \n",
    "elif array_value == 4:\n",
    "    print('Heart problem is good')    \n",
    "else:\n",
    "    print('Invalid data')\n",
    "\n",
    "print('Accuracy level of this model:', accuracy)"
   ]
  },
  {
   "cell_type": "code",
   "execution_count": null,
   "id": "bbe92975",
   "metadata": {},
   "outputs": [],
   "source": []
  }
 ],
 "metadata": {
  "kernelspec": {
   "display_name": "Python 3 (ipykernel)",
   "language": "python",
   "name": "python3"
  },
  "language_info": {
   "codemirror_mode": {
    "name": "ipython",
    "version": 3
   },
   "file_extension": ".py",
   "mimetype": "text/x-python",
   "name": "python",
   "nbconvert_exporter": "python",
   "pygments_lexer": "ipython3",
   "version": "3.7.16"
  }
 },
 "nbformat": 4,
 "nbformat_minor": 5
}
